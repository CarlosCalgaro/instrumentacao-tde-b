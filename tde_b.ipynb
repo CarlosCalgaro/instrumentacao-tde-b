{
 "cells": [
  {
   "cell_type": "code",
   "execution_count": 37,
   "id": "e701349e-62a6-442d-b319-b18b8b0b24ef",
   "metadata": {},
   "outputs": [],
   "source": [
    "import numpy as np\n",
    "import matplotlib.pyplot as plt\n",
    "from scipy import signal"
   ]
  },
  {
   "cell_type": "markdown",
   "id": "468b23c8-c872-47ad-a3b2-6db827b1a6d5",
   "metadata": {},
   "source": [
    "H.2.1 O problema de medição\n",
    "A resistência R e a reatância X de um elemento de circuito são determinadas medindo-se a amplitude V\n",
    "de uma diferença de potencial alternada senoidal entre seus terminais, a amplitude I da corrente\n",
    "alternada que passa por ele e o ângulo de diferença de fase φ entre a diferença de potencial alternada\n",
    "e a corrente alternada. Assim, as três grandezas de entrada são V, I e φ, e as três grandezas de saída\n",
    "— os mensurados — são os três componentes da impedância R, X , e Z. Uma vez que \n",
    "\\begin{equation}\n",
    "z^2 = R^2 + X^2\n",
    "\\end{equation}\n",
    "Há somente duas grandezas de saída independentes.\n",
    "H.2.2 Modelo matemático e dados\n",
    "Os mensurandos são relacionados às grandezas de entrada pela lei de Ohm:\n",
    "\n",
    "\\begin{align}\n",
    "R = \\frac{V}{I}\\cos(\\theta) &&\n",
    "X = \\frac{V}{I}\\sin(\\theta) &&\n",
    "Z = \\frac{V}{I}\n",
    "\\end{align}\n",
    "$$\n",
    "\\begin{aligned}\n",
    "& \\text {Table 1.1. A Jupyter notebook table using LaTeX }\\\\\n",
    "&\\begin{array}{cccc}\n",
    "\\hline \\hline \\text { Numero do Conjunto } & \\text { V (V)} & \\text { I (mA) } & \\theta \\text { (rad)} \\\\\n",
    "\\hline\n",
    "1 & 5,007 & 19,663 & 1,045 6 \\\\\n",
    "2 & 4,994 & 19,639 & 1,043 8 \\\\\n",
    "3 & 5,005 & 19,640 & 1,046 8 \\\\\n",
    "4 & 4,990 & 19,685 & 1,042 8 \\\\\n",
    "5 & 4,999 & 19,678 & 1,043 3 \\\\\n",
    "\\text{Media Aritmetica} & v= 4,999 0 & i = 19,661 0 & ∅ = 1,044 46\\\\ \n",
    "\\text{Desvio-padrão experimental da média} & S(V)= 0,003 2 & S(I)0,009 5 & S(∅) = 0,000 75 \\\\\n",
    "\\hline\n",
    "\\end{array} \\\\\n",
    "\\end{aligned}\n",
    "$$\n",
    "\n",
    "\n",
    "Media calculada por:\n",
    "\\begin{equation}\n",
    "q_{mean} = \\frac{1}{n}\\sum_{j=1}^{n} q_k\n",
    "\\end{equation}\n",
    "\n",
    "\\begin{equation}\n",
    "s^{2}(q_k)= \\frac{1}{n-1}\\sum_{j=1}^{n} (q_j - q_{mean})^2\n",
    "\\end{equation}\n",
    "\n",
    "\\begin{equation}\n",
    "s^2(q_{mean}) = \\frac{s^2(q_k)}{n}\n",
    "\\end{equation}\n"
   ]
  },
  {
   "cell_type": "code",
   "execution_count": 38,
   "id": "2334576a-4344-48e4-a046-e69ef4444370",
   "metadata": {},
   "outputs": [],
   "source": [
    "def desvio_padrao_experimental(variancia):\n",
    "   return np.sqrt(variancia / 4)"
   ]
  },
  {
   "cell_type": "code",
   "execution_count": 39,
   "id": "d28a509f-ae93-44e6-bc89-99d8fc0640ee",
   "metadata": {},
   "outputs": [],
   "source": [
    "# Dados de medidos\n",
    "experimental_v = np.array([5.007, 4.994, 5.005, 4.990, 4.999], dtype=np.double)\n",
    "experimental_i = np.array([19.663, 19.639, 19.640, 19.685, 19.678], dtype=np.double)\n",
    "experimental_o = np.array([1.0456, 1.0438, 1.0468, 1.0428, 1.0433], dtype=np.double)"
   ]
  },
  {
   "cell_type": "code",
   "execution_count": 40,
   "id": "6b336228-28bc-4df4-82da-5196e4e66df3",
   "metadata": {},
   "outputs": [
    {
     "name": "stdout",
     "output_type": "stream",
     "text": [
      "0.0032093613071761794\n"
     ]
    }
   ],
   "source": [
    "# Calculando media/desvio padrao de v\n",
    "\n",
    "media_v = np.mean(experimental_v)\n",
    "variancia_v = np.var(experimental_v)\n",
    "desvio_padrao_v = desvio_padrao_experimental(variancia_v)\n",
    "print(desvio_padrao_v)"
   ]
  },
  {
   "cell_type": "code",
   "execution_count": 41,
   "id": "379b8352-65a6-4356-8815-3581bcd81e19",
   "metadata": {},
   "outputs": [
    {
     "name": "stdout",
     "output_type": "stream",
     "text": [
      "0.009471008394041188\n"
     ]
    }
   ],
   "source": [
    "# Calculando media/desvio padrao de i\n",
    "\n",
    "media_i = np.mean(experimental_i)\n",
    "variancia_i = np.var(experimental_i)\n",
    "desvio_padrao_i = np.sqrt(variancia_i / 4)\n",
    "print(desvio_padrao_i)"
   ]
  },
  {
   "cell_type": "code",
   "execution_count": 42,
   "id": "ced5d3c5-7d3a-4f70-a663-d3e5384164f8",
   "metadata": {},
   "outputs": [],
   "source": [
    "# Calculando media/desvio padrao de O\n",
    "\n",
    "media_o = np.mean(experimental_o)\n",
    "variancia_o = np.var(experimental_o)\n",
    "desvio_padrao_o = np.sqrt(variancia_o / 4)"
   ]
  },
  {
   "cell_type": "code",
   "execution_count": 44,
   "id": "4b76d06c-769c-42f7-89db-a46ceffd632e",
   "metadata": {},
   "outputs": [
    {
     "name": "stdout",
     "output_type": "stream",
     "text": [
      "-0.35531121981747704\n"
     ]
    }
   ],
   "source": [
    "# Calculando os coeficientes de correlacao entre V e I\n",
    "\n",
    "covariancia_v_i= 0\n",
    "for i in range(5):\n",
    "   covariancia_v_i += (experimental_v[i] - media_v)*(experimental_i[i] - media_i)\n",
    "covariancia_v_i = covariancia_v_i/20\n",
    "\n",
    "coeficiente_correlacao_vi = covariancia_v_i/(desvio_padrao_v * desvio_padrao_i)\n",
    "print(coeficiente_correlacao_vi)"
   ]
  },
  {
   "cell_type": "code",
   "execution_count": 45,
   "id": "f5471449-e088-4058-b8c8-078919a30c76",
   "metadata": {},
   "outputs": [
    {
     "name": "stdout",
     "output_type": "stream",
     "text": [
      "0.8576242108399618\n"
     ]
    }
   ],
   "source": [
    "covariancia_v_o= 0\n",
    "for i in range(5):\n",
    "   covariancia_v_o += (experimental_v[i] - media_v)*(experimental_o[i] - media_o)\n",
    "covariancia_v_o = covariancia_v_o/20\n",
    "\n",
    "coeficiente_correlacao_vo = covariancia_v_o/(desvio_padrao_v * desvio_padrao_o)\n",
    "print(coeficiente_correlacao_vo)"
   ]
  },
  {
   "cell_type": "code",
   "execution_count": null,
   "id": "2dadbb8d",
   "metadata": {},
   "outputs": [],
   "source": [
    "covariancia_v_o= 0\n",
    "for i in range(5):\n",
    "   covariancia_v_o += (experimental_v[i] - media_v)*(experimental_o[i] - media_o)\n",
    "covariancia_v_o = covariancia_v_o/20\n",
    "\n",
    "coeficiente_correlacao_vo = covariancia_v_o/(desvio_padrao_v * desvio_padrao_o)\n",
    "print(coeficiente_correlacao_vo)"
   ]
  },
  {
   "cell_type": "code",
   "execution_count": 46,
   "id": "a7e72207",
   "metadata": {},
   "outputs": [
    {
     "name": "stdout",
     "output_type": "stream",
     "text": [
      "-0.6451112176892411\n"
     ]
    }
   ],
   "source": [
    "covariancia_i_o= 0\n",
    "for i in range(5):\n",
    "   covariancia_i_o += (experimental_i[i] - media_i)*(experimental_o[i] - media_o)\n",
    "covariancia_i_o = covariancia_i_o/20\n",
    "\n",
    "coeficiente_correlacao_io = covariancia_i_o/(desvio_padrao_i * desvio_padrao_o)\n",
    "print(coeficiente_correlacao_io)"
   ]
  },
  {
   "cell_type": "code",
   "execution_count": 47,
   "id": "ca18ba72",
   "metadata": {},
   "outputs": [
    {
     "name": "stdout",
     "output_type": "stream",
     "text": [
      "2.169732850301221e-06\n"
     ]
    }
   ],
   "source": [
    "# Calculando desvio padrao combinado de z\n",
    "\n",
    "desvio_padrao_combinado_z = (1/media_i) * variancia_v\n",
    "desvio_padrao_combinado_z += ((media_v/media_i**2)**2) * variancia_i\n",
    "desvio_padrao_combinado_z += 2 * (1/media_i) * (-(media_v/(media_i**2))) * desvio_padrao_v * desvio_padrao_i * coeficiente_correlacao_vi\n",
    "\n",
    "print(desvio_padrao_combinado_z)"
   ]
  }
 ],
 "metadata": {
  "kernelspec": {
   "display_name": "Python 3 (ipykernel)",
   "language": "python",
   "name": "python3"
  },
  "language_info": {
   "codemirror_mode": {
    "name": "ipython",
    "version": 3
   },
   "file_extension": ".py",
   "mimetype": "text/x-python",
   "name": "python",
   "nbconvert_exporter": "python",
   "pygments_lexer": "ipython3",
   "version": "3.9.13"
  }
 },
 "nbformat": 4,
 "nbformat_minor": 5
}
